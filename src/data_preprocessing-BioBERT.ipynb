{
 "cells": [
  {
   "cell_type": "markdown",
   "metadata": {
    "id": "i_w-bXSOurhj"
   },
   "source": [
    "# Config"
   ]
  },
  {
   "cell_type": "code",
   "execution_count": 1,
   "metadata": {
    "id": "BblGgCeUuuDX"
   },
   "outputs": [],
   "source": [
    "# file_path = \"/content/drive/MyDrive/mimic-iii-clinicalnote-v4.1/bq-results-20231215-074521-1702626519432.csv\"\n",
    "# output_folder_path = \"/content/drive/MyDrive/mimic-iii-clinicalnote-v4.1/processed_set\""
   ]
  },
  {
   "cell_type": "code",
   "execution_count": 2,
   "metadata": {},
   "outputs": [],
   "source": [
    "file_path = \"../data/mimic-iii-clinicalnote-v4.1.csv\"\n",
    "output_folder_path = \"../data/processed_set\""
   ]
  },
  {
   "cell_type": "code",
   "execution_count": 3,
   "metadata": {
    "colab": {
     "base_uri": "https://localhost:8080/"
    },
    "executionInfo": {
     "elapsed": 26714,
     "status": "ok",
     "timestamp": 1705416046001,
     "user": {
      "displayName": "吳松濤",
      "userId": "16538801481913406078"
     },
     "user_tz": -480
    },
    "id": "-nE3VoIeVh5h",
    "outputId": "8ded5f1a-0dc2-4fc3-9d09-6cf7700736db"
   },
   "outputs": [],
   "source": [
    "# from google.colab import drive\n",
    "# drive.mount('/content/drive')"
   ]
  },
  {
   "cell_type": "markdown",
   "metadata": {
    "id": "bk8EDOrNVr88"
   },
   "source": [
    "# import package and load the data"
   ]
  },
  {
   "cell_type": "code",
   "execution_count": 4,
   "metadata": {
    "id": "WIUKQLgDVogX"
   },
   "outputs": [
    {
     "name": "stderr",
     "output_type": "stream",
     "text": [
      "2024-01-18 14:59:35.318620: I tensorflow/core/platform/cpu_feature_guard.cc:182] This TensorFlow binary is optimized to use available CPU instructions in performance-critical operations.\n",
      "To enable the following instructions: SSE4.1 SSE4.2 AVX AVX2 AVX512F FMA, in other operations, rebuild TensorFlow with the appropriate compiler flags.\n"
     ]
    }
   ],
   "source": [
    "import pandas as pd\n",
    "import numpy as np\n",
    "import torch\n",
    "import os\n",
    "import string\n",
    "from tqdm import tqdm\n",
    "from transformers import AutoTokenizer, AutoModel, BertTokenizer, BertModel"
   ]
  },
  {
   "cell_type": "markdown",
   "metadata": {
    "id": "EJqq7EgqSrKs"
   },
   "source": [
    "# load data"
   ]
  },
  {
   "cell_type": "code",
   "execution_count": 5,
   "metadata": {
    "colab": {
     "base_uri": "https://localhost:8080/"
    },
    "executionInfo": {
     "elapsed": 11361,
     "status": "ok",
     "timestamp": 1705416062690,
     "user": {
      "displayName": "吳松濤",
      "userId": "16538801481913406078"
     },
     "user_tz": -480
    },
    "id": "E32KVtKASrKs",
    "outputId": "de7a568d-968f-4483-a9d1-08b465015ce5"
   },
   "outputs": [
    {
     "data": {
      "text/plain": [
       "0         200009\n",
       "12        200014\n",
       "24        200016\n",
       "36        200021\n",
       "48        200025\n",
       "           ...  \n",
       "316248    299988\n",
       "316260    299992\n",
       "316272    299993\n",
       "316284    299995\n",
       "316296    299998\n",
       "Name: icustay_id, Length: 26359, dtype: int64"
      ]
     },
     "execution_count": 5,
     "metadata": {},
     "output_type": "execute_result"
    }
   ],
   "source": [
    "X_train = pd.read_csv(os.path.join(output_folder_path, 'X_train_raw.csv'))\n",
    "X_test = pd.read_csv(os.path.join(output_folder_path, 'X_test_raw.csv'))\n",
    "X_val = pd.read_csv(os.path.join(output_folder_path, 'X_val_raw.csv'))\n",
    "\n",
    "X_train.drop_duplicates(subset=['icustay_id'])['icustay_id']"
   ]
  },
  {
   "cell_type": "code",
   "execution_count": 6,
   "metadata": {
    "colab": {
     "base_uri": "https://localhost:8080/",
     "height": 419
    },
    "executionInfo": {
     "elapsed": 20,
     "status": "ok",
     "timestamp": 1705416062691,
     "user": {
      "displayName": "吳松濤",
      "userId": "16538801481913406078"
     },
     "user_tz": -480
    },
    "id": "1jXtGnQLSrKs",
    "outputId": "ddb9dd15-e2a5-40a8-bc1d-4ee0a7e8309c"
   },
   "outputs": [
    {
     "data": {
      "text/html": [
       "<div>\n",
       "<style scoped>\n",
       "    .dataframe tbody tr th:only-of-type {\n",
       "        vertical-align: middle;\n",
       "    }\n",
       "\n",
       "    .dataframe tbody tr th {\n",
       "        vertical-align: top;\n",
       "    }\n",
       "\n",
       "    .dataframe thead th {\n",
       "        text-align: right;\n",
       "    }\n",
       "</style>\n",
       "<table border=\"1\" class=\"dataframe\">\n",
       "  <thead>\n",
       "    <tr style=\"text-align: right;\">\n",
       "      <th></th>\n",
       "      <th>icustay_id</th>\n",
       "      <th>slice_start</th>\n",
       "      <th>processed_text</th>\n",
       "    </tr>\n",
       "  </thead>\n",
       "  <tbody>\n",
       "    <tr>\n",
       "      <th>0</th>\n",
       "      <td>200009</td>\n",
       "      <td>2189-11-30 10:34:32</td>\n",
       "      <td>missing</td>\n",
       "    </tr>\n",
       "    <tr>\n",
       "      <th>1</th>\n",
       "      <td>200009</td>\n",
       "      <td>2189-11-30 12:34:32</td>\n",
       "      <td>missing</td>\n",
       "    </tr>\n",
       "    <tr>\n",
       "      <th>2</th>\n",
       "      <td>200009</td>\n",
       "      <td>2189-11-30 14:34:32</td>\n",
       "      <td>missing</td>\n",
       "    </tr>\n",
       "    <tr>\n",
       "      <th>3</th>\n",
       "      <td>200009</td>\n",
       "      <td>2189-11-30 16:34:32</td>\n",
       "      <td>respiratory care note pt received intubated pl...</td>\n",
       "    </tr>\n",
       "    <tr>\n",
       "      <th>4</th>\n",
       "      <td>200009</td>\n",
       "      <td>2189-11-30 18:34:32</td>\n",
       "      <td>missing</td>\n",
       "    </tr>\n",
       "    <tr>\n",
       "      <th>...</th>\n",
       "      <td>...</td>\n",
       "      <td>...</td>\n",
       "      <td>...</td>\n",
       "    </tr>\n",
       "    <tr>\n",
       "      <th>316303</th>\n",
       "      <td>299998</td>\n",
       "      <td>2181-07-06 08:47:40</td>\n",
       "      <td>missing</td>\n",
       "    </tr>\n",
       "    <tr>\n",
       "      <th>316304</th>\n",
       "      <td>299998</td>\n",
       "      <td>2181-07-06 10:47:40</td>\n",
       "      <td>missing</td>\n",
       "    </tr>\n",
       "    <tr>\n",
       "      <th>316305</th>\n",
       "      <td>299998</td>\n",
       "      <td>2181-07-06 12:47:40</td>\n",
       "      <td>missing</td>\n",
       "    </tr>\n",
       "    <tr>\n",
       "      <th>316306</th>\n",
       "      <td>299998</td>\n",
       "      <td>2181-07-06 14:47:40</td>\n",
       "      <td>missing</td>\n",
       "    </tr>\n",
       "    <tr>\n",
       "      <th>316307</th>\n",
       "      <td>299998</td>\n",
       "      <td>2181-07-06 16:47:40</td>\n",
       "      <td>missing</td>\n",
       "    </tr>\n",
       "  </tbody>\n",
       "</table>\n",
       "<p>316308 rows × 3 columns</p>\n",
       "</div>"
      ],
      "text/plain": [
       "        icustay_id          slice_start  \\\n",
       "0           200009  2189-11-30 10:34:32   \n",
       "1           200009  2189-11-30 12:34:32   \n",
       "2           200009  2189-11-30 14:34:32   \n",
       "3           200009  2189-11-30 16:34:32   \n",
       "4           200009  2189-11-30 18:34:32   \n",
       "...            ...                  ...   \n",
       "316303      299998  2181-07-06 08:47:40   \n",
       "316304      299998  2181-07-06 10:47:40   \n",
       "316305      299998  2181-07-06 12:47:40   \n",
       "316306      299998  2181-07-06 14:47:40   \n",
       "316307      299998  2181-07-06 16:47:40   \n",
       "\n",
       "                                           processed_text  \n",
       "0                                                 missing  \n",
       "1                                                 missing  \n",
       "2                                                 missing  \n",
       "3       respiratory care note pt received intubated pl...  \n",
       "4                                                 missing  \n",
       "...                                                   ...  \n",
       "316303                                            missing  \n",
       "316304                                            missing  \n",
       "316305                                            missing  \n",
       "316306                                            missing  \n",
       "316307                                            missing  \n",
       "\n",
       "[316308 rows x 3 columns]"
      ]
     },
     "execution_count": 6,
     "metadata": {},
     "output_type": "execute_result"
    }
   ],
   "source": [
    "X_train_biobert = X_train[['icustay_id', 'slice_start', 'processed_text']]\n",
    "X_test_biobert = X_test[['icustay_id', 'slice_start', 'processed_text']]\n",
    "X_val_biobert = X_val[['icustay_id', 'slice_start', 'processed_text']]\n",
    "X_train_biobert"
   ]
  },
  {
   "cell_type": "code",
   "execution_count": 7,
   "metadata": {
    "colab": {
     "base_uri": "https://localhost:8080/"
    },
    "executionInfo": {
     "elapsed": 14,
     "status": "ok",
     "timestamp": 1705416062691,
     "user": {
      "displayName": "吳松濤",
      "userId": "16538801481913406078"
     },
     "user_tz": -480
    },
    "id": "Zs7EEYxWSrKt",
    "outputId": "d3dbbede-996a-413e-de5d-73e3117c387b"
   },
   "outputs": [
    {
     "name": "stderr",
     "output_type": "stream",
     "text": [
      "/tmp/ipykernel_134567/1956927129.py:1: SettingWithCopyWarning: \n",
      "A value is trying to be set on a copy of a slice from a DataFrame.\n",
      "Try using .loc[row_indexer,col_indexer] = value instead\n",
      "\n",
      "See the caveats in the documentation: https://pandas.pydata.org/pandas-docs/stable/user_guide/indexing.html#returning-a-view-versus-a-copy\n",
      "  X_train_biobert['processed_text'] = X_train_biobert['processed_text'].fillna('missing')\n",
      "/tmp/ipykernel_134567/1956927129.py:2: SettingWithCopyWarning: \n",
      "A value is trying to be set on a copy of a slice from a DataFrame.\n",
      "Try using .loc[row_indexer,col_indexer] = value instead\n",
      "\n",
      "See the caveats in the documentation: https://pandas.pydata.org/pandas-docs/stable/user_guide/indexing.html#returning-a-view-versus-a-copy\n",
      "  X_test_biobert['processed_text'] = X_test_biobert['processed_text'].fillna('missing')\n",
      "/tmp/ipykernel_134567/1956927129.py:3: SettingWithCopyWarning: \n",
      "A value is trying to be set on a copy of a slice from a DataFrame.\n",
      "Try using .loc[row_indexer,col_indexer] = value instead\n",
      "\n",
      "See the caveats in the documentation: https://pandas.pydata.org/pandas-docs/stable/user_guide/indexing.html#returning-a-view-versus-a-copy\n",
      "  X_val_biobert['processed_text'] = X_val_biobert['processed_text'].fillna('missing')\n"
     ]
    }
   ],
   "source": [
    "X_train_biobert['processed_text'] = X_train_biobert['processed_text'].fillna('missing')\n",
    "X_test_biobert['processed_text'] = X_test_biobert['processed_text'].fillna('missing')\n",
    "X_val_biobert['processed_text'] = X_val_biobert['processed_text'].fillna('missing')"
   ]
  },
  {
   "cell_type": "markdown",
   "metadata": {
    "id": "LFTXnGM5tkcK"
   },
   "source": [
    "# BioBERT embedding"
   ]
  },
  {
   "cell_type": "code",
   "execution_count": 8,
   "metadata": {
    "colab": {
     "base_uri": "https://localhost:8080/",
     "height": 252,
     "referenced_widgets": [
      "64304af1219c4aa8988647799e7d61e6",
      "789215c21d184c268fc753fdffe9ed74",
      "e43b4bf457a74f7b9f0e2469b71430ea",
      "cd6a8842b49b4859bc73e41f033ebd3b",
      "3387fc21436942b8b7fd934929ec5510",
      "9096017ef3ab4ff8a1f2ae66de5c47ec",
      "80a5e913d13f43f6ab364a956be0c446",
      "bb7afaa63f6f49459e192dd62a7f895c",
      "f29c7200d69a40ce9388c0f269421c0d",
      "6dde2626776d43969773596386e7f37a",
      "61e977cf8f73464a86536b9de944d89f",
      "a32984771c2543318e9b7c4dfdf342e1",
      "0266b91fcc6043f1b44ce07e1d6395ac",
      "78058d40f162415c9f9761510f30aba6",
      "82e7935b1b9740e2bd1ecd6ab52f5ac3",
      "6825a323024c40b49d86e0f13a35aa34",
      "4b35f05e1d644b17b1591c3f30d06965",
      "9dc06e46ba504398a814988117be134e",
      "e6740cacec594b4590d3840ee1d25126",
      "763d3dc4060c4f3fa1a61433e5082eea",
      "0266bd3dc6c543da847aeb9e1f992f0b",
      "42710ea9029a4188a003feb5c4cc082d",
      "77329323e04f4f6495e5addf3cd3d9a0",
      "b1d68af4591a47afb9de7fa24d434807",
      "4c5b04e673bf411a906b30ed745247c5",
      "db6cdd81e10b422584d31f3ce66acb35",
      "dd9f2f45adff4aa6a94fc537fdf0c2fe",
      "aafc199123594ab28e00ae3dc6a71a19",
      "742ae0c091a142d9a1eb8947f3d577ec",
      "6d6ec37441a947ba9fb6795f64b0783d",
      "64d45d5b04bf40dca02204e37bc1ea18",
      "23faa55711ec485aa7794b979b5aee3a",
      "b4071a44e8544e9daf9025c59878a406"
     ]
    },
    "executionInfo": {
     "elapsed": 30137,
     "status": "ok",
     "timestamp": 1705416092819,
     "user": {
      "displayName": "吳松濤",
      "userId": "16538801481913406078"
     },
     "user_tz": -480
    },
    "id": "otxmFU6Rtno5",
    "outputId": "fecf34e8-9fa0-4875-be44-b5cab79df8c6"
   },
   "outputs": [
    {
     "name": "stdout",
     "output_type": "stream",
     "text": [
      "You're using:  cuda\n"
     ]
    }
   ],
   "source": [
    "# Check if GPU is available and set the device accordingly\n",
    "device = torch.device(\"cuda\" if torch.cuda.is_available() else \"cpu\")\n",
    "print(\"You're using: \", device)\n",
    "\n",
    "# Load pre-trained BioBERT model\n",
    "tokenizer = AutoTokenizer.from_pretrained(\"dmis-lab/biobert-base-cased-v1.2\")\n",
    "biobert_model = AutoModel.from_pretrained(\"dmis-lab/biobert-base-cased-v1.2\")\n",
    "\n",
    "# Send the model to GPU if available\n",
    "biobert_model = biobert_model.to(device)\n",
    "\n",
    "# Function to generate embeddings with a progress bar\n",
    "def get_biobert_embeddings(texts):\n",
    "    embeddings = []\n",
    "    for text in tqdm(texts, desc=\"Generating Embeddings\"):\n",
    "        inputs = tokenizer(text, return_tensors=\"pt\", truncation=True, padding=True, max_length=512).to(device)\n",
    "        with torch.no_grad():\n",
    "            outputs = biobert_model(**inputs)\n",
    "        # Use the average of the last hidden state for sentence embedding\n",
    "        embedding = outputs.last_hidden_state.mean(dim=1).cpu().numpy()\n",
    "        embeddings.append(embedding.flatten().tolist())\n",
    "    return embeddings"
   ]
  },
  {
   "cell_type": "code",
   "execution_count": 9,
   "metadata": {
    "colab": {
     "base_uri": "https://localhost:8080/"
    },
    "executionInfo": {
     "elapsed": 4760402,
     "status": "ok",
     "timestamp": 1705420853203,
     "user": {
      "displayName": "吳松濤",
      "userId": "16538801481913406078"
     },
     "user_tz": -480
    },
    "id": "mKWb6jCAuVXk",
    "outputId": "65134261-f5c3-4a20-af79-40390527848e"
   },
   "outputs": [
    {
     "name": "stderr",
     "output_type": "stream",
     "text": [
      "Generating Embeddings: 100%|█████████████████████████████████████████████████████████████████████████████████████████████████████████████████████| 316308/316308 [1:27:46<00:00, 60.06it/s]\n",
      "/tmp/ipykernel_134567/1790734665.py:1: SettingWithCopyWarning: \n",
      "A value is trying to be set on a copy of a slice from a DataFrame.\n",
      "Try using .loc[row_indexer,col_indexer] = value instead\n",
      "\n",
      "See the caveats in the documentation: https://pandas.pydata.org/pandas-docs/stable/user_guide/indexing.html#returning-a-view-versus-a-copy\n",
      "  X_train_biobert['bio_bert_embeddings'] = get_biobert_embeddings(X_train_biobert['processed_text'])\n",
      "Generating Embeddings: 100%|███████████████████████████████████████████████████████████████████████████████████████████████████████████████████████| 105444/105444 [28:22<00:00, 61.94it/s]\n",
      "/tmp/ipykernel_134567/1790734665.py:2: SettingWithCopyWarning: \n",
      "A value is trying to be set on a copy of a slice from a DataFrame.\n",
      "Try using .loc[row_indexer,col_indexer] = value instead\n",
      "\n",
      "See the caveats in the documentation: https://pandas.pydata.org/pandas-docs/stable/user_guide/indexing.html#returning-a-view-versus-a-copy\n",
      "  X_test_biobert['bio_bert_embeddings'] = get_biobert_embeddings(X_test_biobert['processed_text'])\n",
      "Generating Embeddings: 100%|███████████████████████████████████████████████████████████████████████████████████████████████████████████████████████| 105444/105444 [28:35<00:00, 61.48it/s]\n",
      "/tmp/ipykernel_134567/1790734665.py:3: SettingWithCopyWarning: \n",
      "A value is trying to be set on a copy of a slice from a DataFrame.\n",
      "Try using .loc[row_indexer,col_indexer] = value instead\n",
      "\n",
      "See the caveats in the documentation: https://pandas.pydata.org/pandas-docs/stable/user_guide/indexing.html#returning-a-view-versus-a-copy\n",
      "  X_val_biobert['bio_bert_embeddings'] = get_biobert_embeddings(X_val_biobert['processed_text'])\n"
     ]
    }
   ],
   "source": [
    "X_train_biobert['bio_bert_embeddings'] = get_biobert_embeddings(X_train_biobert['processed_text'])\n",
    "X_test_biobert['bio_bert_embeddings'] = get_biobert_embeddings(X_test_biobert['processed_text'])\n",
    "X_val_biobert['bio_bert_embeddings'] = get_biobert_embeddings(X_val_biobert['processed_text'])"
   ]
  },
  {
   "cell_type": "code",
   "execution_count": null,
   "metadata": {
    "id": "xYMslTWQuJs6"
   },
   "outputs": [],
   "source": [
    "# Save the datasets\n",
    "X_train_biobert.to_csv(os.path.join(output_folder_path, 'X_train_biobert.csv'), index=False)\n",
    "X_test_biobert.to_csv(os.path.join(output_folder_path, 'X_test_biobert.csv'), index=False)\n",
    "X_val_biobert.to_csv(os.path.join(output_folder_path, 'X_val_biobert.csv'), index=False)\n",
    "# y_train_id.to_csv(os.path.join(output_folder_path, 'y_train_id.csv'), index=False)\n",
    "# y_test_id.to_csv(os.path.join(output_folder_path, 'y_test_id.csv'), index=False)\n",
    "# y_val_id.to_csv(os.path.join(output_folder_path, 'y_val_id.csv'), index=False)"
   ]
  },
  {
   "cell_type": "code",
   "execution_count": null,
   "metadata": {},
   "outputs": [],
   "source": [
    "import pickle\n",
    "# Saving X_train_bert\n",
    "with open(os.path.join(output_folder_path, 'X_train_biobert.pkl'), 'wb') as file:\n",
    "    pickle.dump(X_train_biobert, file)\n",
    "\n",
    "# Saving X_test_bert\n",
    "with open(os.path.join(output_folder_path, 'X_test_biobert.pkl'), 'wb') as file:\n",
    "    pickle.dump(X_test_biobert, file)\n",
    "\n",
    "# Saving X_val_bert\n",
    "with open(os.path.join(output_folder_path, 'X_val_biobert.pkl'), 'wb') as file:\n",
    "    pickle.dump(X_val_biobert, file)"
   ]
  },
  {
   "cell_type": "code",
   "execution_count": null,
   "metadata": {
    "id": "SfJwYMK8SrKu"
   },
   "outputs": [],
   "source": [
    "X_train_biobert"
   ]
  }
 ],
 "metadata": {
  "accelerator": "GPU",
  "colab": {
   "gpuType": "T4",
   "machine_shape": "hm",
   "provenance": [],
   "toc_visible": true
  },
  "kernelspec": {
   "display_name": "Python 3 (ipykernel)",
   "language": "python",
   "name": "python3"
  },
  "language_info": {
   "codemirror_mode": {
    "name": "ipython",
    "version": 3
   },
   "file_extension": ".py",
   "mimetype": "text/x-python",
   "name": "python",
   "nbconvert_exporter": "python",
   "pygments_lexer": "ipython3",
   "version": "3.11.4"
  },
  "widgets": {
   "application/vnd.jupyter.widget-state+json": {
    "0266b91fcc6043f1b44ce07e1d6395ac": {
     "model_module": "@jupyter-widgets/controls",
     "model_module_version": "1.5.0",
     "model_name": "HTMLModel",
     "state": {
      "_dom_classes": [],
      "_model_module": "@jupyter-widgets/controls",
      "_model_module_version": "1.5.0",
      "_model_name": "HTMLModel",
      "_view_count": null,
      "_view_module": "@jupyter-widgets/controls",
      "_view_module_version": "1.5.0",
      "_view_name": "HTMLView",
      "description": "",
      "description_tooltip": null,
      "layout": "IPY_MODEL_4b35f05e1d644b17b1591c3f30d06965",
      "placeholder": "​",
      "style": "IPY_MODEL_9dc06e46ba504398a814988117be134e",
      "value": "vocab.txt: 100%"
     }
    },
    "0266bd3dc6c543da847aeb9e1f992f0b": {
     "model_module": "@jupyter-widgets/base",
     "model_module_version": "1.2.0",
     "model_name": "LayoutModel",
     "state": {
      "_model_module": "@jupyter-widgets/base",
      "_model_module_version": "1.2.0",
      "_model_name": "LayoutModel",
      "_view_count": null,
      "_view_module": "@jupyter-widgets/base",
      "_view_module_version": "1.2.0",
      "_view_name": "LayoutView",
      "align_content": null,
      "align_items": null,
      "align_self": null,
      "border": null,
      "bottom": null,
      "display": null,
      "flex": null,
      "flex_flow": null,
      "grid_area": null,
      "grid_auto_columns": null,
      "grid_auto_flow": null,
      "grid_auto_rows": null,
      "grid_column": null,
      "grid_gap": null,
      "grid_row": null,
      "grid_template_areas": null,
      "grid_template_columns": null,
      "grid_template_rows": null,
      "height": null,
      "justify_content": null,
      "justify_items": null,
      "left": null,
      "margin": null,
      "max_height": null,
      "max_width": null,
      "min_height": null,
      "min_width": null,
      "object_fit": null,
      "object_position": null,
      "order": null,
      "overflow": null,
      "overflow_x": null,
      "overflow_y": null,
      "padding": null,
      "right": null,
      "top": null,
      "visibility": null,
      "width": null
     }
    },
    "23faa55711ec485aa7794b979b5aee3a": {
     "model_module": "@jupyter-widgets/base",
     "model_module_version": "1.2.0",
     "model_name": "LayoutModel",
     "state": {
      "_model_module": "@jupyter-widgets/base",
      "_model_module_version": "1.2.0",
      "_model_name": "LayoutModel",
      "_view_count": null,
      "_view_module": "@jupyter-widgets/base",
      "_view_module_version": "1.2.0",
      "_view_name": "LayoutView",
      "align_content": null,
      "align_items": null,
      "align_self": null,
      "border": null,
      "bottom": null,
      "display": null,
      "flex": null,
      "flex_flow": null,
      "grid_area": null,
      "grid_auto_columns": null,
      "grid_auto_flow": null,
      "grid_auto_rows": null,
      "grid_column": null,
      "grid_gap": null,
      "grid_row": null,
      "grid_template_areas": null,
      "grid_template_columns": null,
      "grid_template_rows": null,
      "height": null,
      "justify_content": null,
      "justify_items": null,
      "left": null,
      "margin": null,
      "max_height": null,
      "max_width": null,
      "min_height": null,
      "min_width": null,
      "object_fit": null,
      "object_position": null,
      "order": null,
      "overflow": null,
      "overflow_x": null,
      "overflow_y": null,
      "padding": null,
      "right": null,
      "top": null,
      "visibility": null,
      "width": null
     }
    },
    "3387fc21436942b8b7fd934929ec5510": {
     "model_module": "@jupyter-widgets/base",
     "model_module_version": "1.2.0",
     "model_name": "LayoutModel",
     "state": {
      "_model_module": "@jupyter-widgets/base",
      "_model_module_version": "1.2.0",
      "_model_name": "LayoutModel",
      "_view_count": null,
      "_view_module": "@jupyter-widgets/base",
      "_view_module_version": "1.2.0",
      "_view_name": "LayoutView",
      "align_content": null,
      "align_items": null,
      "align_self": null,
      "border": null,
      "bottom": null,
      "display": null,
      "flex": null,
      "flex_flow": null,
      "grid_area": null,
      "grid_auto_columns": null,
      "grid_auto_flow": null,
      "grid_auto_rows": null,
      "grid_column": null,
      "grid_gap": null,
      "grid_row": null,
      "grid_template_areas": null,
      "grid_template_columns": null,
      "grid_template_rows": null,
      "height": null,
      "justify_content": null,
      "justify_items": null,
      "left": null,
      "margin": null,
      "max_height": null,
      "max_width": null,
      "min_height": null,
      "min_width": null,
      "object_fit": null,
      "object_position": null,
      "order": null,
      "overflow": null,
      "overflow_x": null,
      "overflow_y": null,
      "padding": null,
      "right": null,
      "top": null,
      "visibility": null,
      "width": null
     }
    },
    "42710ea9029a4188a003feb5c4cc082d": {
     "model_module": "@jupyter-widgets/controls",
     "model_module_version": "1.5.0",
     "model_name": "DescriptionStyleModel",
     "state": {
      "_model_module": "@jupyter-widgets/controls",
      "_model_module_version": "1.5.0",
      "_model_name": "DescriptionStyleModel",
      "_view_count": null,
      "_view_module": "@jupyter-widgets/base",
      "_view_module_version": "1.2.0",
      "_view_name": "StyleView",
      "description_width": ""
     }
    },
    "4b35f05e1d644b17b1591c3f30d06965": {
     "model_module": "@jupyter-widgets/base",
     "model_module_version": "1.2.0",
     "model_name": "LayoutModel",
     "state": {
      "_model_module": "@jupyter-widgets/base",
      "_model_module_version": "1.2.0",
      "_model_name": "LayoutModel",
      "_view_count": null,
      "_view_module": "@jupyter-widgets/base",
      "_view_module_version": "1.2.0",
      "_view_name": "LayoutView",
      "align_content": null,
      "align_items": null,
      "align_self": null,
      "border": null,
      "bottom": null,
      "display": null,
      "flex": null,
      "flex_flow": null,
      "grid_area": null,
      "grid_auto_columns": null,
      "grid_auto_flow": null,
      "grid_auto_rows": null,
      "grid_column": null,
      "grid_gap": null,
      "grid_row": null,
      "grid_template_areas": null,
      "grid_template_columns": null,
      "grid_template_rows": null,
      "height": null,
      "justify_content": null,
      "justify_items": null,
      "left": null,
      "margin": null,
      "max_height": null,
      "max_width": null,
      "min_height": null,
      "min_width": null,
      "object_fit": null,
      "object_position": null,
      "order": null,
      "overflow": null,
      "overflow_x": null,
      "overflow_y": null,
      "padding": null,
      "right": null,
      "top": null,
      "visibility": null,
      "width": null
     }
    },
    "4c5b04e673bf411a906b30ed745247c5": {
     "model_module": "@jupyter-widgets/controls",
     "model_module_version": "1.5.0",
     "model_name": "FloatProgressModel",
     "state": {
      "_dom_classes": [],
      "_model_module": "@jupyter-widgets/controls",
      "_model_module_version": "1.5.0",
      "_model_name": "FloatProgressModel",
      "_view_count": null,
      "_view_module": "@jupyter-widgets/controls",
      "_view_module_version": "1.5.0",
      "_view_name": "ProgressView",
      "bar_style": "success",
      "description": "",
      "description_tooltip": null,
      "layout": "IPY_MODEL_6d6ec37441a947ba9fb6795f64b0783d",
      "max": 435783451,
      "min": 0,
      "orientation": "horizontal",
      "style": "IPY_MODEL_64d45d5b04bf40dca02204e37bc1ea18",
      "value": 435783451
     }
    },
    "61e977cf8f73464a86536b9de944d89f": {
     "model_module": "@jupyter-widgets/controls",
     "model_module_version": "1.5.0",
     "model_name": "DescriptionStyleModel",
     "state": {
      "_model_module": "@jupyter-widgets/controls",
      "_model_module_version": "1.5.0",
      "_model_name": "DescriptionStyleModel",
      "_view_count": null,
      "_view_module": "@jupyter-widgets/base",
      "_view_module_version": "1.2.0",
      "_view_name": "StyleView",
      "description_width": ""
     }
    },
    "64304af1219c4aa8988647799e7d61e6": {
     "model_module": "@jupyter-widgets/controls",
     "model_module_version": "1.5.0",
     "model_name": "HBoxModel",
     "state": {
      "_dom_classes": [],
      "_model_module": "@jupyter-widgets/controls",
      "_model_module_version": "1.5.0",
      "_model_name": "HBoxModel",
      "_view_count": null,
      "_view_module": "@jupyter-widgets/controls",
      "_view_module_version": "1.5.0",
      "_view_name": "HBoxView",
      "box_style": "",
      "children": [
       "IPY_MODEL_789215c21d184c268fc753fdffe9ed74",
       "IPY_MODEL_e43b4bf457a74f7b9f0e2469b71430ea",
       "IPY_MODEL_cd6a8842b49b4859bc73e41f033ebd3b"
      ],
      "layout": "IPY_MODEL_3387fc21436942b8b7fd934929ec5510"
     }
    },
    "64d45d5b04bf40dca02204e37bc1ea18": {
     "model_module": "@jupyter-widgets/controls",
     "model_module_version": "1.5.0",
     "model_name": "ProgressStyleModel",
     "state": {
      "_model_module": "@jupyter-widgets/controls",
      "_model_module_version": "1.5.0",
      "_model_name": "ProgressStyleModel",
      "_view_count": null,
      "_view_module": "@jupyter-widgets/base",
      "_view_module_version": "1.2.0",
      "_view_name": "StyleView",
      "bar_color": null,
      "description_width": ""
     }
    },
    "6825a323024c40b49d86e0f13a35aa34": {
     "model_module": "@jupyter-widgets/base",
     "model_module_version": "1.2.0",
     "model_name": "LayoutModel",
     "state": {
      "_model_module": "@jupyter-widgets/base",
      "_model_module_version": "1.2.0",
      "_model_name": "LayoutModel",
      "_view_count": null,
      "_view_module": "@jupyter-widgets/base",
      "_view_module_version": "1.2.0",
      "_view_name": "LayoutView",
      "align_content": null,
      "align_items": null,
      "align_self": null,
      "border": null,
      "bottom": null,
      "display": null,
      "flex": null,
      "flex_flow": null,
      "grid_area": null,
      "grid_auto_columns": null,
      "grid_auto_flow": null,
      "grid_auto_rows": null,
      "grid_column": null,
      "grid_gap": null,
      "grid_row": null,
      "grid_template_areas": null,
      "grid_template_columns": null,
      "grid_template_rows": null,
      "height": null,
      "justify_content": null,
      "justify_items": null,
      "left": null,
      "margin": null,
      "max_height": null,
      "max_width": null,
      "min_height": null,
      "min_width": null,
      "object_fit": null,
      "object_position": null,
      "order": null,
      "overflow": null,
      "overflow_x": null,
      "overflow_y": null,
      "padding": null,
      "right": null,
      "top": null,
      "visibility": null,
      "width": null
     }
    },
    "6d6ec37441a947ba9fb6795f64b0783d": {
     "model_module": "@jupyter-widgets/base",
     "model_module_version": "1.2.0",
     "model_name": "LayoutModel",
     "state": {
      "_model_module": "@jupyter-widgets/base",
      "_model_module_version": "1.2.0",
      "_model_name": "LayoutModel",
      "_view_count": null,
      "_view_module": "@jupyter-widgets/base",
      "_view_module_version": "1.2.0",
      "_view_name": "LayoutView",
      "align_content": null,
      "align_items": null,
      "align_self": null,
      "border": null,
      "bottom": null,
      "display": null,
      "flex": null,
      "flex_flow": null,
      "grid_area": null,
      "grid_auto_columns": null,
      "grid_auto_flow": null,
      "grid_auto_rows": null,
      "grid_column": null,
      "grid_gap": null,
      "grid_row": null,
      "grid_template_areas": null,
      "grid_template_columns": null,
      "grid_template_rows": null,
      "height": null,
      "justify_content": null,
      "justify_items": null,
      "left": null,
      "margin": null,
      "max_height": null,
      "max_width": null,
      "min_height": null,
      "min_width": null,
      "object_fit": null,
      "object_position": null,
      "order": null,
      "overflow": null,
      "overflow_x": null,
      "overflow_y": null,
      "padding": null,
      "right": null,
      "top": null,
      "visibility": null,
      "width": null
     }
    },
    "6dde2626776d43969773596386e7f37a": {
     "model_module": "@jupyter-widgets/base",
     "model_module_version": "1.2.0",
     "model_name": "LayoutModel",
     "state": {
      "_model_module": "@jupyter-widgets/base",
      "_model_module_version": "1.2.0",
      "_model_name": "LayoutModel",
      "_view_count": null,
      "_view_module": "@jupyter-widgets/base",
      "_view_module_version": "1.2.0",
      "_view_name": "LayoutView",
      "align_content": null,
      "align_items": null,
      "align_self": null,
      "border": null,
      "bottom": null,
      "display": null,
      "flex": null,
      "flex_flow": null,
      "grid_area": null,
      "grid_auto_columns": null,
      "grid_auto_flow": null,
      "grid_auto_rows": null,
      "grid_column": null,
      "grid_gap": null,
      "grid_row": null,
      "grid_template_areas": null,
      "grid_template_columns": null,
      "grid_template_rows": null,
      "height": null,
      "justify_content": null,
      "justify_items": null,
      "left": null,
      "margin": null,
      "max_height": null,
      "max_width": null,
      "min_height": null,
      "min_width": null,
      "object_fit": null,
      "object_position": null,
      "order": null,
      "overflow": null,
      "overflow_x": null,
      "overflow_y": null,
      "padding": null,
      "right": null,
      "top": null,
      "visibility": null,
      "width": null
     }
    },
    "742ae0c091a142d9a1eb8947f3d577ec": {
     "model_module": "@jupyter-widgets/controls",
     "model_module_version": "1.5.0",
     "model_name": "DescriptionStyleModel",
     "state": {
      "_model_module": "@jupyter-widgets/controls",
      "_model_module_version": "1.5.0",
      "_model_name": "DescriptionStyleModel",
      "_view_count": null,
      "_view_module": "@jupyter-widgets/base",
      "_view_module_version": "1.2.0",
      "_view_name": "StyleView",
      "description_width": ""
     }
    },
    "763d3dc4060c4f3fa1a61433e5082eea": {
     "model_module": "@jupyter-widgets/controls",
     "model_module_version": "1.5.0",
     "model_name": "ProgressStyleModel",
     "state": {
      "_model_module": "@jupyter-widgets/controls",
      "_model_module_version": "1.5.0",
      "_model_name": "ProgressStyleModel",
      "_view_count": null,
      "_view_module": "@jupyter-widgets/base",
      "_view_module_version": "1.2.0",
      "_view_name": "StyleView",
      "bar_color": null,
      "description_width": ""
     }
    },
    "77329323e04f4f6495e5addf3cd3d9a0": {
     "model_module": "@jupyter-widgets/controls",
     "model_module_version": "1.5.0",
     "model_name": "HBoxModel",
     "state": {
      "_dom_classes": [],
      "_model_module": "@jupyter-widgets/controls",
      "_model_module_version": "1.5.0",
      "_model_name": "HBoxModel",
      "_view_count": null,
      "_view_module": "@jupyter-widgets/controls",
      "_view_module_version": "1.5.0",
      "_view_name": "HBoxView",
      "box_style": "",
      "children": [
       "IPY_MODEL_b1d68af4591a47afb9de7fa24d434807",
       "IPY_MODEL_4c5b04e673bf411a906b30ed745247c5",
       "IPY_MODEL_db6cdd81e10b422584d31f3ce66acb35"
      ],
      "layout": "IPY_MODEL_dd9f2f45adff4aa6a94fc537fdf0c2fe"
     }
    },
    "78058d40f162415c9f9761510f30aba6": {
     "model_module": "@jupyter-widgets/controls",
     "model_module_version": "1.5.0",
     "model_name": "FloatProgressModel",
     "state": {
      "_dom_classes": [],
      "_model_module": "@jupyter-widgets/controls",
      "_model_module_version": "1.5.0",
      "_model_name": "FloatProgressModel",
      "_view_count": null,
      "_view_module": "@jupyter-widgets/controls",
      "_view_module_version": "1.5.0",
      "_view_name": "ProgressView",
      "bar_style": "success",
      "description": "",
      "description_tooltip": null,
      "layout": "IPY_MODEL_e6740cacec594b4590d3840ee1d25126",
      "max": 213450,
      "min": 0,
      "orientation": "horizontal",
      "style": "IPY_MODEL_763d3dc4060c4f3fa1a61433e5082eea",
      "value": 213450
     }
    },
    "789215c21d184c268fc753fdffe9ed74": {
     "model_module": "@jupyter-widgets/controls",
     "model_module_version": "1.5.0",
     "model_name": "HTMLModel",
     "state": {
      "_dom_classes": [],
      "_model_module": "@jupyter-widgets/controls",
      "_model_module_version": "1.5.0",
      "_model_name": "HTMLModel",
      "_view_count": null,
      "_view_module": "@jupyter-widgets/controls",
      "_view_module_version": "1.5.0",
      "_view_name": "HTMLView",
      "description": "",
      "description_tooltip": null,
      "layout": "IPY_MODEL_9096017ef3ab4ff8a1f2ae66de5c47ec",
      "placeholder": "​",
      "style": "IPY_MODEL_80a5e913d13f43f6ab364a956be0c446",
      "value": "config.json: 100%"
     }
    },
    "80a5e913d13f43f6ab364a956be0c446": {
     "model_module": "@jupyter-widgets/controls",
     "model_module_version": "1.5.0",
     "model_name": "DescriptionStyleModel",
     "state": {
      "_model_module": "@jupyter-widgets/controls",
      "_model_module_version": "1.5.0",
      "_model_name": "DescriptionStyleModel",
      "_view_count": null,
      "_view_module": "@jupyter-widgets/base",
      "_view_module_version": "1.2.0",
      "_view_name": "StyleView",
      "description_width": ""
     }
    },
    "82e7935b1b9740e2bd1ecd6ab52f5ac3": {
     "model_module": "@jupyter-widgets/controls",
     "model_module_version": "1.5.0",
     "model_name": "HTMLModel",
     "state": {
      "_dom_classes": [],
      "_model_module": "@jupyter-widgets/controls",
      "_model_module_version": "1.5.0",
      "_model_name": "HTMLModel",
      "_view_count": null,
      "_view_module": "@jupyter-widgets/controls",
      "_view_module_version": "1.5.0",
      "_view_name": "HTMLView",
      "description": "",
      "description_tooltip": null,
      "layout": "IPY_MODEL_0266bd3dc6c543da847aeb9e1f992f0b",
      "placeholder": "​",
      "style": "IPY_MODEL_42710ea9029a4188a003feb5c4cc082d",
      "value": " 213k/213k [00:00&lt;00:00, 571kB/s]"
     }
    },
    "9096017ef3ab4ff8a1f2ae66de5c47ec": {
     "model_module": "@jupyter-widgets/base",
     "model_module_version": "1.2.0",
     "model_name": "LayoutModel",
     "state": {
      "_model_module": "@jupyter-widgets/base",
      "_model_module_version": "1.2.0",
      "_model_name": "LayoutModel",
      "_view_count": null,
      "_view_module": "@jupyter-widgets/base",
      "_view_module_version": "1.2.0",
      "_view_name": "LayoutView",
      "align_content": null,
      "align_items": null,
      "align_self": null,
      "border": null,
      "bottom": null,
      "display": null,
      "flex": null,
      "flex_flow": null,
      "grid_area": null,
      "grid_auto_columns": null,
      "grid_auto_flow": null,
      "grid_auto_rows": null,
      "grid_column": null,
      "grid_gap": null,
      "grid_row": null,
      "grid_template_areas": null,
      "grid_template_columns": null,
      "grid_template_rows": null,
      "height": null,
      "justify_content": null,
      "justify_items": null,
      "left": null,
      "margin": null,
      "max_height": null,
      "max_width": null,
      "min_height": null,
      "min_width": null,
      "object_fit": null,
      "object_position": null,
      "order": null,
      "overflow": null,
      "overflow_x": null,
      "overflow_y": null,
      "padding": null,
      "right": null,
      "top": null,
      "visibility": null,
      "width": null
     }
    },
    "9dc06e46ba504398a814988117be134e": {
     "model_module": "@jupyter-widgets/controls",
     "model_module_version": "1.5.0",
     "model_name": "DescriptionStyleModel",
     "state": {
      "_model_module": "@jupyter-widgets/controls",
      "_model_module_version": "1.5.0",
      "_model_name": "DescriptionStyleModel",
      "_view_count": null,
      "_view_module": "@jupyter-widgets/base",
      "_view_module_version": "1.2.0",
      "_view_name": "StyleView",
      "description_width": ""
     }
    },
    "a32984771c2543318e9b7c4dfdf342e1": {
     "model_module": "@jupyter-widgets/controls",
     "model_module_version": "1.5.0",
     "model_name": "HBoxModel",
     "state": {
      "_dom_classes": [],
      "_model_module": "@jupyter-widgets/controls",
      "_model_module_version": "1.5.0",
      "_model_name": "HBoxModel",
      "_view_count": null,
      "_view_module": "@jupyter-widgets/controls",
      "_view_module_version": "1.5.0",
      "_view_name": "HBoxView",
      "box_style": "",
      "children": [
       "IPY_MODEL_0266b91fcc6043f1b44ce07e1d6395ac",
       "IPY_MODEL_78058d40f162415c9f9761510f30aba6",
       "IPY_MODEL_82e7935b1b9740e2bd1ecd6ab52f5ac3"
      ],
      "layout": "IPY_MODEL_6825a323024c40b49d86e0f13a35aa34"
     }
    },
    "aafc199123594ab28e00ae3dc6a71a19": {
     "model_module": "@jupyter-widgets/base",
     "model_module_version": "1.2.0",
     "model_name": "LayoutModel",
     "state": {
      "_model_module": "@jupyter-widgets/base",
      "_model_module_version": "1.2.0",
      "_model_name": "LayoutModel",
      "_view_count": null,
      "_view_module": "@jupyter-widgets/base",
      "_view_module_version": "1.2.0",
      "_view_name": "LayoutView",
      "align_content": null,
      "align_items": null,
      "align_self": null,
      "border": null,
      "bottom": null,
      "display": null,
      "flex": null,
      "flex_flow": null,
      "grid_area": null,
      "grid_auto_columns": null,
      "grid_auto_flow": null,
      "grid_auto_rows": null,
      "grid_column": null,
      "grid_gap": null,
      "grid_row": null,
      "grid_template_areas": null,
      "grid_template_columns": null,
      "grid_template_rows": null,
      "height": null,
      "justify_content": null,
      "justify_items": null,
      "left": null,
      "margin": null,
      "max_height": null,
      "max_width": null,
      "min_height": null,
      "min_width": null,
      "object_fit": null,
      "object_position": null,
      "order": null,
      "overflow": null,
      "overflow_x": null,
      "overflow_y": null,
      "padding": null,
      "right": null,
      "top": null,
      "visibility": null,
      "width": null
     }
    },
    "b1d68af4591a47afb9de7fa24d434807": {
     "model_module": "@jupyter-widgets/controls",
     "model_module_version": "1.5.0",
     "model_name": "HTMLModel",
     "state": {
      "_dom_classes": [],
      "_model_module": "@jupyter-widgets/controls",
      "_model_module_version": "1.5.0",
      "_model_name": "HTMLModel",
      "_view_count": null,
      "_view_module": "@jupyter-widgets/controls",
      "_view_module_version": "1.5.0",
      "_view_name": "HTMLView",
      "description": "",
      "description_tooltip": null,
      "layout": "IPY_MODEL_aafc199123594ab28e00ae3dc6a71a19",
      "placeholder": "​",
      "style": "IPY_MODEL_742ae0c091a142d9a1eb8947f3d577ec",
      "value": "pytorch_model.bin: 100%"
     }
    },
    "b4071a44e8544e9daf9025c59878a406": {
     "model_module": "@jupyter-widgets/controls",
     "model_module_version": "1.5.0",
     "model_name": "DescriptionStyleModel",
     "state": {
      "_model_module": "@jupyter-widgets/controls",
      "_model_module_version": "1.5.0",
      "_model_name": "DescriptionStyleModel",
      "_view_count": null,
      "_view_module": "@jupyter-widgets/base",
      "_view_module_version": "1.2.0",
      "_view_name": "StyleView",
      "description_width": ""
     }
    },
    "bb7afaa63f6f49459e192dd62a7f895c": {
     "model_module": "@jupyter-widgets/base",
     "model_module_version": "1.2.0",
     "model_name": "LayoutModel",
     "state": {
      "_model_module": "@jupyter-widgets/base",
      "_model_module_version": "1.2.0",
      "_model_name": "LayoutModel",
      "_view_count": null,
      "_view_module": "@jupyter-widgets/base",
      "_view_module_version": "1.2.0",
      "_view_name": "LayoutView",
      "align_content": null,
      "align_items": null,
      "align_self": null,
      "border": null,
      "bottom": null,
      "display": null,
      "flex": null,
      "flex_flow": null,
      "grid_area": null,
      "grid_auto_columns": null,
      "grid_auto_flow": null,
      "grid_auto_rows": null,
      "grid_column": null,
      "grid_gap": null,
      "grid_row": null,
      "grid_template_areas": null,
      "grid_template_columns": null,
      "grid_template_rows": null,
      "height": null,
      "justify_content": null,
      "justify_items": null,
      "left": null,
      "margin": null,
      "max_height": null,
      "max_width": null,
      "min_height": null,
      "min_width": null,
      "object_fit": null,
      "object_position": null,
      "order": null,
      "overflow": null,
      "overflow_x": null,
      "overflow_y": null,
      "padding": null,
      "right": null,
      "top": null,
      "visibility": null,
      "width": null
     }
    },
    "cd6a8842b49b4859bc73e41f033ebd3b": {
     "model_module": "@jupyter-widgets/controls",
     "model_module_version": "1.5.0",
     "model_name": "HTMLModel",
     "state": {
      "_dom_classes": [],
      "_model_module": "@jupyter-widgets/controls",
      "_model_module_version": "1.5.0",
      "_model_name": "HTMLModel",
      "_view_count": null,
      "_view_module": "@jupyter-widgets/controls",
      "_view_module_version": "1.5.0",
      "_view_name": "HTMLView",
      "description": "",
      "description_tooltip": null,
      "layout": "IPY_MODEL_6dde2626776d43969773596386e7f37a",
      "placeholder": "​",
      "style": "IPY_MODEL_61e977cf8f73464a86536b9de944d89f",
      "value": " 1.11k/1.11k [00:00&lt;00:00, 81.7kB/s]"
     }
    },
    "db6cdd81e10b422584d31f3ce66acb35": {
     "model_module": "@jupyter-widgets/controls",
     "model_module_version": "1.5.0",
     "model_name": "HTMLModel",
     "state": {
      "_dom_classes": [],
      "_model_module": "@jupyter-widgets/controls",
      "_model_module_version": "1.5.0",
      "_model_name": "HTMLModel",
      "_view_count": null,
      "_view_module": "@jupyter-widgets/controls",
      "_view_module_version": "1.5.0",
      "_view_name": "HTMLView",
      "description": "",
      "description_tooltip": null,
      "layout": "IPY_MODEL_23faa55711ec485aa7794b979b5aee3a",
      "placeholder": "​",
      "style": "IPY_MODEL_b4071a44e8544e9daf9025c59878a406",
      "value": " 436M/436M [00:21&lt;00:00, 20.1MB/s]"
     }
    },
    "dd9f2f45adff4aa6a94fc537fdf0c2fe": {
     "model_module": "@jupyter-widgets/base",
     "model_module_version": "1.2.0",
     "model_name": "LayoutModel",
     "state": {
      "_model_module": "@jupyter-widgets/base",
      "_model_module_version": "1.2.0",
      "_model_name": "LayoutModel",
      "_view_count": null,
      "_view_module": "@jupyter-widgets/base",
      "_view_module_version": "1.2.0",
      "_view_name": "LayoutView",
      "align_content": null,
      "align_items": null,
      "align_self": null,
      "border": null,
      "bottom": null,
      "display": null,
      "flex": null,
      "flex_flow": null,
      "grid_area": null,
      "grid_auto_columns": null,
      "grid_auto_flow": null,
      "grid_auto_rows": null,
      "grid_column": null,
      "grid_gap": null,
      "grid_row": null,
      "grid_template_areas": null,
      "grid_template_columns": null,
      "grid_template_rows": null,
      "height": null,
      "justify_content": null,
      "justify_items": null,
      "left": null,
      "margin": null,
      "max_height": null,
      "max_width": null,
      "min_height": null,
      "min_width": null,
      "object_fit": null,
      "object_position": null,
      "order": null,
      "overflow": null,
      "overflow_x": null,
      "overflow_y": null,
      "padding": null,
      "right": null,
      "top": null,
      "visibility": null,
      "width": null
     }
    },
    "e43b4bf457a74f7b9f0e2469b71430ea": {
     "model_module": "@jupyter-widgets/controls",
     "model_module_version": "1.5.0",
     "model_name": "FloatProgressModel",
     "state": {
      "_dom_classes": [],
      "_model_module": "@jupyter-widgets/controls",
      "_model_module_version": "1.5.0",
      "_model_name": "FloatProgressModel",
      "_view_count": null,
      "_view_module": "@jupyter-widgets/controls",
      "_view_module_version": "1.5.0",
      "_view_name": "ProgressView",
      "bar_style": "success",
      "description": "",
      "description_tooltip": null,
      "layout": "IPY_MODEL_bb7afaa63f6f49459e192dd62a7f895c",
      "max": 1110,
      "min": 0,
      "orientation": "horizontal",
      "style": "IPY_MODEL_f29c7200d69a40ce9388c0f269421c0d",
      "value": 1110
     }
    },
    "e6740cacec594b4590d3840ee1d25126": {
     "model_module": "@jupyter-widgets/base",
     "model_module_version": "1.2.0",
     "model_name": "LayoutModel",
     "state": {
      "_model_module": "@jupyter-widgets/base",
      "_model_module_version": "1.2.0",
      "_model_name": "LayoutModel",
      "_view_count": null,
      "_view_module": "@jupyter-widgets/base",
      "_view_module_version": "1.2.0",
      "_view_name": "LayoutView",
      "align_content": null,
      "align_items": null,
      "align_self": null,
      "border": null,
      "bottom": null,
      "display": null,
      "flex": null,
      "flex_flow": null,
      "grid_area": null,
      "grid_auto_columns": null,
      "grid_auto_flow": null,
      "grid_auto_rows": null,
      "grid_column": null,
      "grid_gap": null,
      "grid_row": null,
      "grid_template_areas": null,
      "grid_template_columns": null,
      "grid_template_rows": null,
      "height": null,
      "justify_content": null,
      "justify_items": null,
      "left": null,
      "margin": null,
      "max_height": null,
      "max_width": null,
      "min_height": null,
      "min_width": null,
      "object_fit": null,
      "object_position": null,
      "order": null,
      "overflow": null,
      "overflow_x": null,
      "overflow_y": null,
      "padding": null,
      "right": null,
      "top": null,
      "visibility": null,
      "width": null
     }
    },
    "f29c7200d69a40ce9388c0f269421c0d": {
     "model_module": "@jupyter-widgets/controls",
     "model_module_version": "1.5.0",
     "model_name": "ProgressStyleModel",
     "state": {
      "_model_module": "@jupyter-widgets/controls",
      "_model_module_version": "1.5.0",
      "_model_name": "ProgressStyleModel",
      "_view_count": null,
      "_view_module": "@jupyter-widgets/base",
      "_view_module_version": "1.2.0",
      "_view_name": "StyleView",
      "bar_color": null,
      "description_width": ""
     }
    }
   }
  }
 },
 "nbformat": 4,
 "nbformat_minor": 4
}
